{
 "cells": [
  {
   "cell_type": "markdown",
   "id": "ab74327a",
   "metadata": {},
   "source": [
    "🧩 Business Problem: Production Optimization\n",
    "Problem Statement:\n",
    "A company produces two products: Product A and Product B. Both products require labor and raw material. The company wants to maximize profit, but it has limited resources.\n",
    "\n",
    "Details:\n",
    "\n",
    "Product\tProfit per Unit\tLabor hours/unit\tRaw material (kg)/unit\n",
    "A\t$40\t2\t3\n",
    "B\t$30\t1\t4\n",
    "Constraints:\n",
    "Total available labor hours: 100\n",
    "\n",
    "Total available raw material (kg): 120\n",
    "✅ Formulating as a Linear Program:\n",
    "Let:\n",
    "\n",
    "x = units of Product A\n",
    "\n",
    "y = units of Product B\n",
    "\n",
    "Objective Function (maximize profit):\n"
   ]
  },
  {
   "cell_type": "code",
   "execution_count": 12,
   "id": "2f6352f3",
   "metadata": {},
   "outputs": [],
   "source": [
    "from pulp import LpStatus\n"
   ]
  },
  {
   "cell_type": "code",
   "execution_count": 13,
   "id": "b31fcc6b",
   "metadata": {},
   "outputs": [
    {
     "name": "stdout",
     "output_type": "stream",
     "text": [
      "Requirement already satisfied: pulp in e:\\code\\venv\\lib\\site-packages (3.1.1)\n"
     ]
    }
   ],
   "source": [
    "!pip install pulp\n"
   ]
  },
  {
   "cell_type": "code",
   "execution_count": 17,
   "id": "04323623",
   "metadata": {},
   "outputs": [
    {
     "name": "stdout",
     "output_type": "stream",
     "text": [
      "Status: Optimal\n",
      "Produce 40.00 units of Product A\n",
      "Produce 0.00 units of Product B\n",
      "Maximum Profit: $1600.00\n"
     ]
    }
   ],
   "source": [
    "from pulp import LpMaximize, LpProblem, LpVariable, value, LpStatus\n",
    "\n",
    "# Define the problem\n",
    "model = LpProblem(\"Production-Optimization\", LpMaximize)\n",
    "\n",
    "# Decision variables\n",
    "x = LpVariable(\"Product_A\", lowBound=0)\n",
    "y = LpVariable(\"Product_B\", lowBound=0)\n",
    "\n",
    "# Objective function\n",
    "model += 40 * x + 30 * y, \"Total_Profit\"\n",
    "\n",
    "# Constraints\n",
    "model += 2 * x + 1 * y <= 100, \"Labor_Hours\"\n",
    "model += 3 * x + 4 * y <= 120, \"Raw_Material\"\n",
    "\n",
    "# Solve the problem\n",
    "model.solve()\n",
    "\n",
    "# Results\n",
    "print(f\"Status: {LpStatus[model.status]}\")\n",
    "print(f\"Produce {x.varValue:.2f} units of Product A\")\n",
    "print(f\"Produce {y.varValue:.2f} units of Product B\")\n",
    "print(f\"Maximum Profit: ${value(model.objective):.2f}\")\n",
    "\n"
   ]
  }
 ],
 "metadata": {
  "kernelspec": {
   "display_name": "Python 3",
   "language": "python",
   "name": "python3"
  },
  "language_info": {
   "codemirror_mode": {
    "name": "ipython",
    "version": 3
   },
   "file_extension": ".py",
   "mimetype": "text/x-python",
   "name": "python",
   "nbconvert_exporter": "python",
   "pygments_lexer": "ipython3",
   "version": "3.12.4"
  }
 },
 "nbformat": 4,
 "nbformat_minor": 5
}
